{
 "cells": [
  {
   "cell_type": "code",
   "execution_count": 1,
   "id": "946f201e",
   "metadata": {},
   "outputs": [
    {
     "ename": "ModuleNotFoundError",
     "evalue": "No module named 'cv2'",
     "output_type": "error",
     "traceback": [
      "\u001b[1;31m---------------------------------------------------------------------------\u001b[0m",
      "\u001b[1;31mModuleNotFoundError\u001b[0m                       Traceback (most recent call last)",
      "\u001b[1;32m~\\AppData\\Local\\Temp/ipykernel_4628/3379721091.py\u001b[0m in \u001b[0;36m<module>\u001b[1;34m\u001b[0m\n\u001b[1;32m----> 1\u001b[1;33m \u001b[1;32mimport\u001b[0m \u001b[0mcv2\u001b[0m\u001b[1;33m\u001b[0m\u001b[1;33m\u001b[0m\u001b[0m\n\u001b[0m\u001b[0;32m      2\u001b[0m \u001b[1;32mimport\u001b[0m \u001b[0mmediapipe\u001b[0m \u001b[1;32mas\u001b[0m \u001b[0mmp\u001b[0m\u001b[1;33m\u001b[0m\u001b[1;33m\u001b[0m\u001b[0m\n\u001b[0;32m      3\u001b[0m \u001b[1;32mfrom\u001b[0m \u001b[0mmediapipe\u001b[0m\u001b[1;33m.\u001b[0m\u001b[0mpython\u001b[0m\u001b[1;33m.\u001b[0m\u001b[0msolutions\u001b[0m\u001b[1;33m.\u001b[0m\u001b[0mdrawing_utils\u001b[0m \u001b[1;32mimport\u001b[0m \u001b[0mdraw_landmarks\u001b[0m\u001b[1;33m\u001b[0m\u001b[1;33m\u001b[0m\u001b[0m\n\u001b[0;32m      4\u001b[0m \u001b[1;32mimport\u001b[0m \u001b[0mmath\u001b[0m\u001b[1;33m\u001b[0m\u001b[1;33m\u001b[0m\u001b[0m\n\u001b[0;32m      5\u001b[0m \u001b[1;32mfrom\u001b[0m \u001b[0mctypes\u001b[0m \u001b[1;32mimport\u001b[0m \u001b[0mcast\u001b[0m\u001b[1;33m,\u001b[0m \u001b[0mPOINTER\u001b[0m\u001b[1;33m\u001b[0m\u001b[1;33m\u001b[0m\u001b[0m\n",
      "\u001b[1;31mModuleNotFoundError\u001b[0m: No module named 'cv2'"
     ]
    }
   ],
   "source": [
    "import cv2\n",
    "import mediapipe as mp\n",
    "from mediapipe.python.solutions.drawing_utils import draw_landmarks\n",
    "import math\n",
    "from ctypes import cast, POINTER\n",
    "from comtypes import CLSCTX_ALL\n",
    "from pycaw.pycaw import AudioUtilities, IAudioEndpointVolume\n",
    "import numpy\n",
    "devices = AudioUtilities.GetSpeakers()\n",
    "interface = devices.Activate(IAudioEndpointVolume._iid_, CLSCTX_ALL, None)\n",
    "volume = cast(interface, POINTER(IAudioEndpointVolume))\n",
    "#volume.GetMasterVolumeLevel()\n",
    "cap = cv2.VideoCapture(0)\n",
    "mpHands = mp.solutions.hands\n",
    "hands = mpHands.Hands()\n",
    "mpDraw = mp.solutions.drawing_utils\n",
    "while True:\n",
    "    success , img =cap.read()\n",
    "    imgRGB = cv2.cvtColor(img , cv2.COLOR_BGR2RGB)\n",
    "    results = hands.process(imgRGB)\n",
    "    #print(results.multi_hand_landmarks)\n",
    "\n",
    "    if results.multi_hand_landmarks:\n",
    "        for handLms in results.multi_hand_landmarks:\n",
    "            lmList = []\n",
    "            for id ,lm in enumerate(handLms.landmark):\n",
    "                #print(id , lm)\n",
    "                h ,w , c = img.shape\n",
    "                cx ,cy = int(lm.x*w) , int(lm.y*h)\n",
    "                lmList.append([id ,cx, cy])\n",
    "                mpDraw.draw_landmarks(img , handLms ,mpHands.HAND_CONNECTIONS)\n",
    "        \n",
    "        if lmList:\n",
    "            x1 ,y1  = lmList[4][1] , lmList[4][2]\n",
    "            x2, y2  = lmList[8][1], lmList[8][2]\n",
    "            cv2.circle(img , (x1, y1) , 15 ,(255,0,0) , cv2.FILLED )\n",
    "            cv2.circle(img , (x2, y2) , 15 ,(255,0,0) , cv2.FILLED )\n",
    "            cv2.line(img , (x1 , y1) , (x2 , y2) ,(255 , 0 , 255) , 3)\n",
    "            z1 , z2 = (x1+x2)//2 , (y1+y2)//2\n",
    "            length = math.hypot(x2- x1 , y2- y1)\n",
    "            if length<50 :\n",
    "                cv2.circle(img , (z1 ,z2) ,15 , (255 , 255 , 255) ,cv2.FILLED)\n",
    "            #print(length)\n",
    "            #volume.GetMute()\n",
    "        volRange  = volume.GetVolumeRange()\n",
    "        minVol = volRange[0]\n",
    "        maxVol = volRange[1]\n",
    "        vol = numpy.interp(length , [50 ,300] , [minVol ,maxVol])\n",
    "        volBar = numpy.interp(length , [50 ,300] , [400 ,150])\n",
    "        volPer = numpy.interp(length , [50 ,300] , [0 ,100])\n",
    "        #length =50  ===> volPer =0\n",
    "        #length = 300 ===>volPer =100\n",
    "        #length = 175 ==> volPer = 50\n",
    "        #print(vol)\n",
    "        #print(int(length) , vol)\n",
    "        #print(minVol ,maxVol)\n",
    "        volume.SetMasterVolumeLevel(vol, None)\n",
    "        cv2.rectangle(img , (50 ,150) , (85 , 400) ,(123,213,122) ,3)\n",
    "        cv2.rectangle(img , (50 , int(volBar)) , (85 ,400) ,(0, 231,23) ,cv2.FILLED)\n",
    "        cv2.putText(img , str(int(volPer)) , (40, 450) ,cv2.FONT_HERSHEY_PLAIN ,4 , (24,34,34) , 3)\n",
    "    cv2.imshow(\"Image\" ,img)\n",
    "    cv2.waitKey(1)\n",
    "\n",
    "# Length of line ===50, 300\n",
    "# Range of sound is ===-21, 20\n",
    "# Range of actual volume === 0,100\n"
   ]
  },
  {
   "cell_type": "code",
   "execution_count": null,
   "id": "da6d60c3",
   "metadata": {},
   "outputs": [],
   "source": []
  }
 ],
 "metadata": {
  "kernelspec": {
   "display_name": "Python 3 (ipykernel)",
   "language": "python",
   "name": "python3"
  },
  "language_info": {
   "codemirror_mode": {
    "name": "ipython",
    "version": 3
   },
   "file_extension": ".py",
   "mimetype": "text/x-python",
   "name": "python",
   "nbconvert_exporter": "python",
   "pygments_lexer": "ipython3",
   "version": "3.9.7"
  }
 },
 "nbformat": 4,
 "nbformat_minor": 5
}
